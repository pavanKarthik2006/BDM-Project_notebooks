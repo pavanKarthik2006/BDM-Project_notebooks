{
 "cells": [
  {
   "cell_type": "code",
   "execution_count": null,
   "id": "b7870117",
   "metadata": {},
   "outputs": [],
   "source": [
    "import pandas as pd\n",
    "import matplotlib.pyplot as plt\n",
    "import seaborn as sns\n",
    "# Removed: from io import StringIO # Not needed if reading directly from file\n",
    "# Removed: import file_content_fetcher # As per your request, not using file_content_fetcher"
   ]
  },
  {
   "cell_type": "code",
   "execution_count": null,
   "id": "4177ee64",
   "metadata": {},
   "outputs": [],
   "source": [
    "# --- Data Loading ---\n",
    "# The user wants a visualization of ABC analysis results.\n",
    "# Assuming 'abc_analysis_results_feb_2024.csv' is directly available in the environment's root.\n",
    "# Local file paths like C:\\Users\\... cannot be accessed directly in this environment.\n",
    "ABC_RESULTS_FILE_PATH = 'abc_analysis_results_feb_2024.csv'"
   ]
  },
  {
   "cell_type": "code",
   "execution_count": null,
   "id": "ddeb75c0",
   "metadata": {},
   "outputs": [],
   "source": [
    "abc_results_df = pd.DataFrame()\n",
    "data_loaded_successfully = False"
   ]
  },
  {
   "cell_type": "code",
   "execution_count": null,
   "id": "a12e60e1",
   "metadata": {},
   "outputs": [],
   "source": [
    "try:\n",
    "    # Attempt to load data directly using pandas.read_csv\n",
    "    abc_results_df = pd.read_csv(ABC_RESULTS_FILE_PATH)\n",
    "    data_loaded_successfully = True\n",
    "    print(f\"ABC analysis results loaded successfully from '{ABC_RESULTS_FILE_PATH}'.\")\n",
    "except FileNotFoundError:\n",
    "    print(f\"Error: The file '{ABC_RESULTS_FILE_PATH}' was not found.\")\n",
    "    print(\"Please ensure the file is uploaded directly to the environment or its name is correct.\")\n",
    "except Exception as e:\n",
    "    print(f\"Error during file loading or parsing for ABC results: {e}. Cannot proceed without data.\")"
   ]
  },
  {
   "cell_type": "code",
   "execution_count": null,
   "id": "1e9a22c2",
   "metadata": {
    "lines_to_next_cell": 2
   },
   "outputs": [],
   "source": [
    "if not data_loaded_successfully or abc_results_df.empty:\n",
    "    print(\"Failed to load ABC analysis data or DataFrame is empty. Exiting visualization.\")\n",
    "    exit() # Exit if ABC data is not available"
   ]
  },
  {
   "cell_type": "code",
   "execution_count": null,
   "id": "6c21a4c1",
   "metadata": {},
   "outputs": [],
   "source": [
    "# --- Summarize ABC categories for Visualization ---\n",
    "# The loaded CSV should already contain 'ABC_Category' and 'TotalRevenue'\n",
    "# Check if 'ProductID' column exists, otherwise, adapt the groupby if needed.\n",
    "# Assuming 'ProductID' is consistently present based on previous ABC analysis code.\n",
    "if 'ProductID' not in abc_results_df.columns:\n",
    "    print(\"Warning: 'ProductID' column not found for ProductCount. Grouping by ABC_Category only.\")\n",
    "    abc_summary = abc_results_df.groupby('ABC_Category').agg(\n",
    "        TotalRevenue=('TotalRevenue', 'sum')\n",
    "    ).reset_index()\n",
    "    # Add a dummy ProductCount if not available for consistency in later print, though not used in plot.\n",
    "    abc_summary['ProductCount'] = abc_results_df.groupby('ABC_Category').size().reset_index(name='count')['count']\n",
    "else:\n",
    "    abc_summary = abc_results_df.groupby('ABC_Category').agg(\n",
    "        ProductCount=('ProductID', 'count'),\n",
    "        TotalRevenue=('TotalRevenue', 'sum')\n",
    "    ).reset_index()"
   ]
  },
  {
   "cell_type": "code",
   "execution_count": null,
   "id": "63465673",
   "metadata": {},
   "outputs": [],
   "source": [
    "# Calculate PercentageOfTotalRevenue\n",
    "total_overall_revenue = abc_summary['TotalRevenue'].sum()\n",
    "if total_overall_revenue == 0:\n",
    "    print(\"Warning: Total revenue is zero. Percentage of total revenue will be zero.\")\n",
    "    abc_summary['PercentageOfTotalRevenue'] = 0.0\n",
    "else:\n",
    "    abc_summary['PercentageOfTotalRevenue'] = (abc_summary['TotalRevenue'] / total_overall_revenue) * 100"
   ]
  },
  {
   "cell_type": "code",
   "execution_count": null,
   "id": "722119c4",
   "metadata": {
    "lines_to_next_cell": 2
   },
   "outputs": [],
   "source": [
    "print(\"\\nABC Analysis Summary for Visualization:\")\n",
    "print(abc_summary)"
   ]
  },
  {
   "cell_type": "code",
   "execution_count": null,
   "id": "f6b09b5d",
   "metadata": {},
   "outputs": [],
   "source": [
    "# --- Visualization of ABC Analysis ---\n",
    "plt.figure(figsize=(10, 6))\n",
    "# Ensure the order of categories is A, B, C for consistent plotting\n",
    "# Check if all categories (A, B, C) are present. If not, adjust order dynamically.\n",
    "available_categories = abc_summary['ABC_Category'].unique()\n",
    "plot_order = [cat for cat in ['A', 'B', 'C'] if cat in available_categories]"
   ]
  },
  {
   "cell_type": "code",
   "execution_count": null,
   "id": "5260c4fa",
   "metadata": {},
   "outputs": [],
   "source": [
    "if not plot_order:\n",
    "    print(\"No A, B, or C categories found in the data to plot.\")\n",
    "else:\n",
    "    sns.barplot(x='ABC_Category', y='PercentageOfTotalRevenue', data=abc_summary,\n",
    "                palette='viridis', order=plot_order)\n",
    "\n",
    "    plt.title('ABC Analysis: Percentage of Total Revenue by Category (February 2024)')\n",
    "    plt.xlabel('ABC Category')\n",
    "    plt.ylabel('Percentage of Total Revenue (%)')\n",
    "    plt.ylim(0, 100) # Ensure Y-axis goes from 0 to 100%\n",
    "\n",
    "    # Add text labels for percentages on top of bars\n",
    "    for index, row in abc_summary.iterrows():\n",
    "        # Find the correct x-position for each category (A=0, B=1, C=2 in the `plot_order`)\n",
    "        if row['ABC_Category'] in plot_order: # Ensure the category is in the actual plot\n",
    "            x_pos = plot_order.index(row['ABC_Category'])\n",
    "            plt.text(x_pos, row['PercentageOfTotalRevenue'] + 2, f\"{row['PercentageOfTotalRevenue']:.2f}%\",\n",
    "                     color='black', ha=\"center\")\n",
    "\n",
    "    plt.grid(axis='y', linestyle='--', alpha=0.7)\n",
    "    plt.tight_layout()\n",
    "    plt.show()"
   ]
  },
  {
   "cell_type": "code",
   "execution_count": null,
   "id": "25987c29",
   "metadata": {},
   "outputs": [],
   "source": [
    "print(\"\\nABC Analysis visualization complete.\")"
   ]
  }
 ],
 "metadata": {
  "jupytext": {
   "cell_metadata_filter": "-all",
   "main_language": "python",
   "notebook_metadata_filter": "-all"
  }
 },
 "nbformat": 4,
 "nbformat_minor": 5
}

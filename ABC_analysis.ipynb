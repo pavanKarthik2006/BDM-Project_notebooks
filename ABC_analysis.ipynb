{
 "cells": [
  {
   "cell_type": "code",
   "execution_count": null,
   "id": "215b4850",
   "metadata": {},
   "outputs": [],
   "source": [
    "import pandas as pd\n",
    "from column_selection import final_preprocessed_df  \n",
    "\n",
    "\n",
    "\n",
    "print(\"--- ABC Analysis ---\")\n",
    "\n",
    "# Group by ProductID and calculate total revenue for each product\n",
    "# Ensure 'ProductName' is included if you want it in the ABC analysis results dataframe.\n",
    "product_revenue = final_preprocessed_df.groupby(['ProductID', 'ProductName'])['TotalPrice'].sum().sort_values(ascending=False).reset_index()\n",
    "product_revenue.columns = ['ProductID', 'ProductName', 'TotalRevenue']\n",
    "\n",
    "# Calculate cumulative percentage of total revenue\n",
    "product_revenue['CumulativeRevenue'] = product_revenue['TotalRevenue'].cumsum()\n",
    "product_revenue['CumulativeRevenuePercentage'] = (product_revenue['CumulativeRevenue'] / product_revenue['TotalRevenue'].sum()) * 100\n",
    "\n",
    "# Assign ABC categories\n",
    "# A-items: Top 70% of revenue\n",
    "# B-items: Next 20% of revenue (up to 90%)\n",
    "# C-items: Remaining 10% of revenue (above 90%)"
   ]
  },
  {
   "cell_type": "code",
   "execution_count": null,
   "id": "b4e9ffe8",
   "metadata": {},
   "outputs": [],
   "source": [
    "def assign_abc_category(percentage):\n",
    "    if percentage <= 70:\n",
    "        return 'A'\n",
    "    elif percentage <= 90:\n",
    "        return 'B'\n",
    "    else:\n",
    "        return 'C'\n",
    "\n",
    "product_revenue['ABC_Category'] = product_revenue['CumulativeRevenuePercentage'].apply(assign_abc_category)\n",
    "\n",
    "print(\"\\nABC Analysis Results (Top 5 products):\")\n",
    "print(product_revenue.head()) # Display top few ABC categorized products\n",
    "\n",
    "# Summarize ABC categories\n",
    "abc_summary = product_revenue.groupby('ABC_Category').agg(\n",
    "    ProductCount=('ProductID', 'count'),\n",
    "    TotalRevenue=('TotalRevenue', 'sum'),\n",
    "    PercentageOfTotalRevenue=('TotalRevenue', lambda x: (x.sum() / product_revenue['TotalRevenue'].sum()) * 100)\n",
    ").reset_index()\n",
    "print(\"\\nABC Analysis Summary:\")\n",
    "print(abc_summary)\n",
    "\n",
    "# Save the ABC analysis results to a CSV file\n",
    "output_filename = 'abc_analysis_results_feb_2024.csv'\n",
    "product_revenue.to_csv(output_filename, index=False)\n",
    "print(f\"\\nABC analysis results saved to '{output_filename}'.\")\n",
    "\n",
    "print(\"\\nABC Analysis section complete.\")"
   ]
  }
 ],
 "metadata": {
  "jupytext": {
   "cell_metadata_filter": "-all",
   "main_language": "python",
   "notebook_metadata_filter": "-all"
  }
 },
 "nbformat": 4,
 "nbformat_minor": 5
}

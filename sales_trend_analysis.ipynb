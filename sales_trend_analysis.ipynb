{
 "cells": [
  {
   "cell_type": "code",
   "execution_count": null,
   "id": "5f5c9bc9",
   "metadata": {},
   "outputs": [],
   "source": [
    "import pandas as pd\n",
    "import matplotlib.pyplot as plt\n",
    "import seaborn as sns\n",
    "from column_selection import final_preprocessed_df  # Assuming this is the preprocessed DataFrame from the previous step"
   ]
  },
  {
   "cell_type": "code",
   "execution_count": null,
   "id": "6c22993d",
   "metadata": {},
   "outputs": [],
   "source": []
  },
  {
   "cell_type": "code",
   "execution_count": null,
   "id": "3916aa46",
   "metadata": {},
   "outputs": [],
   "source": [
    "print(\"--- Sales Trend Analysis for February 2024 ---\")"
   ]
  },
  {
   "cell_type": "markdown",
   "id": "f850b427",
   "metadata": {},
   "source": [
    "--- Part 1: Weekly Sales Trend Line Graph ---"
   ]
  },
  {
   "cell_type": "code",
   "execution_count": null,
   "id": "2d6ad585",
   "metadata": {},
   "outputs": [],
   "source": [
    "# Determine the starting ISO week number for February 2024 in the dataset\n",
    "min_sale_week = final_preprocessed_df['SaleWeek'].min()"
   ]
  },
  {
   "cell_type": "code",
   "execution_count": null,
   "id": "d0a15cfb",
   "metadata": {},
   "outputs": [],
   "source": [
    "# Create a 'RelativeWeek' column for plotting (Week 1, Week 2, etc. within the month)\n",
    "final_preprocessed_df['RelativeWeek'] = final_preprocessed_df['SaleWeek'] - min_sale_week + 1"
   ]
  },
  {
   "cell_type": "code",
   "execution_count": null,
   "id": "ff6230f1",
   "metadata": {},
   "outputs": [],
   "source": [
    "# Aggregate total sales by the new 'RelativeWeek'\n",
    "weekly_sales = final_preprocessed_df.groupby('RelativeWeek')['TotalPrice'].sum().reset_index()"
   ]
  },
  {
   "cell_type": "code",
   "execution_count": null,
   "id": "42fb5230",
   "metadata": {},
   "outputs": [],
   "source": [
    "# Ensure the weeks are sorted for proper plotting order\n",
    "weekly_sales = weekly_sales.sort_values(by='RelativeWeek')"
   ]
  },
  {
   "cell_type": "code",
   "execution_count": null,
   "id": "e5596aa7",
   "metadata": {},
   "outputs": [],
   "source": [
    "plt.figure(figsize=(10, 6)) # Adjusted figure size for weekly data\n",
    "sns.lineplot(\n",
    "    data=weekly_sales,\n",
    "    x='RelativeWeek',\n",
    "    y='TotalPrice',\n",
    "    marker='o', # Add markers for each data point\n",
    "    color='skyblue', # Single color for a single line\n",
    "    linewidth=2\n",
    ")"
   ]
  },
  {
   "cell_type": "code",
   "execution_count": null,
   "id": "e2152e0b",
   "metadata": {},
   "outputs": [],
   "source": [
    "plt.title('Weekly Sales Trend for February 2024')\n",
    "plt.xlabel('Week Number (within month)')\n",
    "plt.ylabel('Total Sales')\n",
    "plt.xticks(weekly_sales['RelativeWeek'].unique()) # Ensure only actual week numbers are shown\n",
    "plt.grid(True, linestyle='--', alpha=0.7)\n",
    "plt.tight_layout()\n",
    "plt.show()"
   ]
  },
  {
   "cell_type": "code",
   "execution_count": null,
   "id": "d84d9a59",
   "metadata": {},
   "outputs": [],
   "source": [
    "print(\"\\n--- Part 2: Fast-Moving and Slow-Moving Items ---\")"
   ]
  },
  {
   "cell_type": "code",
   "execution_count": null,
   "id": "362b3af5",
   "metadata": {},
   "outputs": [],
   "source": [
    "# Group by ProductName and sum TotalPrice to get total sales for each product\n",
    "sales_by_product = final_preprocessed_df.groupby('ProductName')['TotalPrice'].sum().sort_values(ascending=False)"
   ]
  },
  {
   "cell_type": "code",
   "execution_count": null,
   "id": "e045c30a",
   "metadata": {},
   "outputs": [],
   "source": [
    "print(\"\\nTop 10 Fast-Moving Products (February 2024):\")\n",
    "print(sales_by_product.head(10))"
   ]
  },
  {
   "cell_type": "code",
   "execution_count": null,
   "id": "e2ad65b0",
   "metadata": {},
   "outputs": [],
   "source": [
    "print(\"\\nTop 10 Slow-Moving Products (February 2024):\")\n",
    "print(sales_by_product.tail(10))"
   ]
  },
  {
   "cell_type": "code",
   "execution_count": null,
   "id": "eae8e55a",
   "metadata": {},
   "outputs": [],
   "source": [
    "print(\"\\nCombined sales trend analysis complete.\")"
   ]
  }
 ],
 "metadata": {
  "jupytext": {
   "cell_metadata_filter": "-all",
   "main_language": "python",
   "notebook_metadata_filter": "-all"
  }
 },
 "nbformat": 4,
 "nbformat_minor": 5
}

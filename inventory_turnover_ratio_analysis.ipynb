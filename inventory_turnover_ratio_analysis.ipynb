{
 "cells": [
  {
   "cell_type": "code",
   "execution_count": null,
   "id": "481d6ca9",
   "metadata": {},
   "outputs": [],
   "source": [
    "import pandas as pd\n",
    "import matplotlib.pyplot as plt\n",
    "import seaborn as sns\n",
    "from datetime import timedelta\n",
    "import calendar\n",
    "# Removed: import content_fetcher # As per user, this is not defined in the environment."
   ]
  },
  {
   "cell_type": "code",
   "execution_count": null,
   "id": "96deef3b",
   "metadata": {},
   "outputs": [],
   "source": [
    "# --- Configuration for Data Loading and Preprocessing ---\n",
    "# IMPORTANT: Assuming these files are directly accessible in the environment's root.\n",
    "SALES_FILE_PATH = r'C:\\Users\\Pavan\\Downloads\\archive (1)\\trimmed_sales_feb_2024.csv'\n",
    "PRODUCTS_FILE_PATH = r'C:\\Users\\Pavan\\Downloads\\archive (1)\\products.csv'\n",
    "CATEGORIES_FILE_PATH = r'C:\\Users\\Pavan\\Downloads\\archive (1)\\categories.csv'"
   ]
  },
  {
   "cell_type": "code",
   "execution_count": null,
   "id": "46671307",
   "metadata": {},
   "outputs": [],
   "source": [
    "TARGET_YEAR = 2024\n",
    "TARGET_MONTH = 2 # February"
   ]
  },
  {
   "cell_type": "code",
   "execution_count": null,
   "id": "a293ef3e",
   "metadata": {},
   "outputs": [],
   "source": [
    "sales_df = pd.DataFrame()\n",
    "products_df = pd.DataFrame()\n",
    "categories_df = pd.DataFrame()\n",
    "data_loaded_successfully = False # Keep this for internal logic, but won't use file_content_fetcher"
   ]
  },
  {
   "cell_type": "code",
   "execution_count": null,
   "id": "4c821b67",
   "metadata": {
    "lines_to_next_cell": 2
   },
   "outputs": [],
   "source": [
    "try:\n",
    "    sales_df = pd.read_csv(SALES_FILE_PATH)\n",
    "    products_df = pd.read_csv(PRODUCTS_FILE_PATH)\n",
    "    categories_df = pd.read_csv(CATEGORIES_FILE_PATH)\n",
    "    data_loaded_successfully = True\n",
    "    print(\"Real data loaded successfully from provided files.\")\n",
    "except FileNotFoundError as e:\n",
    "    print(f\"Error: One or more data files not found. Please ensure '{SALES_FILE_PATH}', '{PRODUCTS_FILE_PATH}', and '{CATEGORIES_FILE_PATH}' are uploaded correctly.\")\n",
    "    print(f\"Error details: {e}\")\n",
    "    # Do not exit, but mark as not loaded successfully to prevent further operations on empty DFs.\n",
    "    data_loaded_successfully = False\n",
    "except Exception as e:\n",
    "    print(f\"An unexpected error occurred during file loading: {e}.\")\n",
    "    data_loaded_successfully = False"
   ]
  },
  {
   "cell_type": "code",
   "execution_count": null,
   "id": "a7e8c2b7",
   "metadata": {
    "lines_to_next_cell": 2
   },
   "outputs": [],
   "source": [
    "# --- Exit if real data could not be loaded ---\n",
    "if not data_loaded_successfully:\n",
    "    print(\"Cannot proceed with analysis as data loading failed.\")\n",
    "    exit() # Exit the script if data loading was unsuccessful"
   ]
  },
  {
   "cell_type": "code",
   "execution_count": null,
   "id": "87ec59da",
   "metadata": {},
   "outputs": [],
   "source": [
    "# --- Date Processing and Trimming ---\n",
    "if 'SalesDate' in sales_df.columns:\n",
    "    sales_df.dropna(subset=['SalesDate'], inplace=True)\n",
    "    # Convert 'SalesDate' to datetime, handling potential errors\n",
    "    sales_df['SalesDate'] = pd.to_datetime(sales_df['SalesDate'], errors='coerce')\n",
    "    sales_df.dropna(subset=['SalesDate'], inplace=True) # Remove rows where conversion failed\n",
    "\n",
    "    # Apply TARGET_YEAR to all SalesDate entries to ensure they fall into the desired analysis year\n",
    "    # Assuming original sales data might be from a different year (e.g., 2018 as in Kaggle dataset)\n",
    "    # This aligns all sales to TARGET_YEAR for February.\n",
    "    sales_df['SalesDate'] = sales_df['SalesDate'].apply(\n",
    "        lambda x: x.replace(year=TARGET_YEAR) if pd.notna(x) else x\n",
    "    )\n",
    "    print(f\"SalesDate processed and year shifted to {TARGET_YEAR}.\")\n",
    "else:\n",
    "    print(\"Error: 'SalesDate' column not found in the sales data. Cannot proceed with date-based analysis.\")\n",
    "    exit()"
   ]
  },
  {
   "cell_type": "code",
   "execution_count": null,
   "id": "e4946242",
   "metadata": {},
   "outputs": [],
   "source": [
    "num_days_in_month = calendar.monthrange(TARGET_YEAR, TARGET_MONTH)[1]\n",
    "start_date_of_period = pd.Timestamp(TARGET_YEAR, TARGET_MONTH, 1)\n",
    "end_date_of_period = pd.Timestamp(TARGET_YEAR, TARGET_MONTH, num_days_in_month) + timedelta(days=1)"
   ]
  },
  {
   "cell_type": "code",
   "execution_count": null,
   "id": "8c118be2",
   "metadata": {},
   "outputs": [],
   "source": [
    "trimmed_sales_df = sales_df[\n",
    "    (sales_df['SalesDate'] >= start_date_of_period) &\n",
    "    (sales_df['SalesDate'] < end_date_of_period)\n",
    "].copy()\n",
    "print(f\"Data trimmed to {len(trimmed_sales_df)} rows for {calendar.month_name[TARGET_MONTH]} {TARGET_YEAR}.\")"
   ]
  },
  {
   "cell_type": "code",
   "execution_count": null,
   "id": "52c186b9",
   "metadata": {
    "lines_to_next_cell": 2
   },
   "outputs": [],
   "source": [
    "if trimmed_sales_df.empty:\n",
    "    print(\"Warning: Trimmed sales DataFrame is empty for the target month. Check your data and target period.\")\n",
    "    print(\"This might happen if the original 'SalesDate' values are not conducive to being shifted to Feb 2024,\")\n",
    "    print(\"or if 'trimmed data.csv' itself is empty or doesn't cover Feb 2024.\")\n",
    "    exit() # Exit if no data for the target month after trimming"
   ]
  },
  {
   "cell_type": "code",
   "execution_count": null,
   "id": "7ef1cf1d",
   "metadata": {},
   "outputs": [],
   "source": [
    "# --- Merging with Product and Category Data ---\n",
    "products_relevant_cols = ['ProductID', 'ProductName', 'Price', 'CategoryID']\n",
    "merged_df = pd.merge(trimmed_sales_df, products_df[products_relevant_cols], on='ProductID', how='left')"
   ]
  },
  {
   "cell_type": "code",
   "execution_count": null,
   "id": "f38b6359",
   "metadata": {},
   "outputs": [],
   "source": [
    "categories_relevant_cols = ['CategoryID', 'CategoryName']\n",
    "merged_df = pd.merge(merged_df, categories_df[categories_relevant_cols], on='CategoryID', how='left')"
   ]
  },
  {
   "cell_type": "code",
   "execution_count": null,
   "id": "4d23e142",
   "metadata": {},
   "outputs": [],
   "source": [
    "# Check if 'Price' column exists after merge before calculating TotalPrice\n",
    "if 'Price' not in merged_df.columns:\n",
    "    print(\"Error: 'Price' column is missing after merging products data. Cannot calculate TotalPrice.\")\n",
    "    exit()"
   ]
  },
  {
   "cell_type": "code",
   "execution_count": null,
   "id": "808a8151",
   "metadata": {
    "lines_to_next_cell": 2
   },
   "outputs": [],
   "source": [
    "merged_df['TotalPrice'] = merged_df['Quantity'] * merged_df['Price'] * (1 - merged_df['Discount'])\n",
    "print(\"TotalPrice calculated.\")"
   ]
  },
  {
   "cell_type": "code",
   "execution_count": null,
   "id": "88e55be6",
   "metadata": {
    "lines_to_next_cell": 2
   },
   "outputs": [],
   "source": [
    "# --- Feature Engineering (Time-based) ---\n",
    "merged_df['SaleYear'] = merged_df['SalesDate'].dt.year\n",
    "merged_df['SaleMonth'] = merged_df['SalesDate'].dt.month_name()\n",
    "merged_df['SaleWeekday'] = merged_df['SalesDate'].dt.day_name()\n",
    "merged_df['SaleWeek'] = merged_df['SalesDate'].dt.isocalendar().week.astype(int)"
   ]
  },
  {
   "cell_type": "code",
   "execution_count": null,
   "id": "413caf1d",
   "metadata": {},
   "outputs": [],
   "source": [
    "# --- Contextual Filtering (Indian Grocery Store Specifics) ---\n",
    "products_to_exclude = [\n",
    "    'Barramundi', 'Creme De Banane - Marie', 'Shrimp - 31/40',\n",
    "    'Orange - Canned, Mandarin', 'Cheese - Boursin, Garlic / Herbs',\n",
    "    'Veal - Osso Bucco', 'Tomato - Tricolor Cherry', 'Grenadine',\n",
    "    'Salmon - Atlantic, Skin On', 'Coffee - Irish Cream',\n",
    "    'Crab - Dungeness, Whole', 'Sole - Dover, Whole, Fresh',\n",
    "    'Sauce - Demi Glace', 'Seedlings - Mix, Organic',\n",
    "    'Vanilla Beans', 'Bread Crumbs - Japanese Style'\n",
    "]\n",
    "categories_to_include = ['Confections', 'Produce', 'Beverages', 'Grain']"
   ]
  },
  {
   "cell_type": "code",
   "execution_count": null,
   "id": "f4a2c08f",
   "metadata": {},
   "outputs": [],
   "source": [
    "filtered_by_product_exclusion = merged_df[~merged_df['ProductName'].isin(products_to_exclude)].copy()\n",
    "final_preprocessed_df = filtered_by_product_exclusion[\n",
    "    filtered_by_product_exclusion['CategoryName'].isin(categories_to_include)\n",
    "].copy()"
   ]
  },
  {
   "cell_type": "code",
   "execution_count": null,
   "id": "ac75c54b",
   "metadata": {},
   "outputs": [],
   "source": [
    "columns_to_keep_final = [\n",
    "    'ProductID', 'ProductName', 'CategoryID', 'CategoryName', 'Quantity', 'Discount', 'TotalPrice', 'SalesDate',\n",
    "    'SaleYear', 'SaleMonth', 'SaleWeekday', 'SaleWeek', 'Price' # Ensuring 'Price' is here for COGS\n",
    "]\n",
    "final_preprocessed_df = final_preprocessed_df[columns_to_keep_final].copy()"
   ]
  },
  {
   "cell_type": "code",
   "execution_count": null,
   "id": "45a1ee24",
   "metadata": {
    "lines_to_next_cell": 2
   },
   "outputs": [],
   "source": [
    "if final_preprocessed_df.empty:\n",
    "    print(\"Final preprocessed DataFrame is empty after filtering. Cannot perform Inventory Turnover Analysis.\")\n",
    "    exit() # Exit if no data for analysis"
   ]
  },
  {
   "cell_type": "code",
   "execution_count": null,
   "id": "cc0dc845",
   "metadata": {},
   "outputs": [],
   "source": [
    "print(\"\\n--- Inventory Turnover Ratio Analysis ---\")"
   ]
  },
  {
   "cell_type": "code",
   "execution_count": null,
   "id": "000fac81",
   "metadata": {},
   "outputs": [],
   "source": [
    "# --- Define the assumed Gross Profit Margin for COGS calculation ---\n",
    "# This needs to be consistent with the Financial Overview calculation.\n",
    "assumed_cogs_percentage_of_revenue = 0.70 # This implies a 30% gross profit margin."
   ]
  },
  {
   "cell_type": "code",
   "execution_count": null,
   "id": "2cee89aa",
   "metadata": {},
   "outputs": [],
   "source": [
    "# Calculate Cost of Goods Sold (COGS) based on the assumed percentage of TotalPrice\n",
    "final_preprocessed_df['CostOfGoodsSold'] = final_preprocessed_df['TotalPrice'] * assumed_cogs_percentage_of_revenue"
   ]
  },
  {
   "cell_type": "code",
   "execution_count": null,
   "id": "ea46a8e6",
   "metadata": {},
   "outputs": [],
   "source": [
    "# Calculate total COGS for the trimmed month (February 2024)\n",
    "total_cogs = final_preprocessed_df['CostOfGoodsSold'].sum()\n",
    "print(f\"\\nTotal Cost of Goods Sold (COGS) for February 2024: ₹{total_cogs:,.2f}\")"
   ]
  },
  {
   "cell_type": "code",
   "execution_count": null,
   "id": "76d605be",
   "metadata": {
    "lines_to_next_cell": 2
   },
   "outputs": [],
   "source": [
    "# --- Output COGS by Category in a Table ---\n",
    "cogs_by_category = final_preprocessed_df.groupby('CategoryName')['CostOfGoodsSold'].sum().sort_values(ascending=False).reset_index()\n",
    "print(\"\\nCost of Goods Sold (COGS) by Category (February 2024) - Table:\")\n",
    "print(cogs_by_category.to_string(index=False)) # Use to_string to ensure full table is printed"
   ]
  },
  {
   "cell_type": "code",
   "execution_count": null,
   "id": "500c036a",
   "metadata": {
    "lines_to_next_cell": 2
   },
   "outputs": [],
   "source": [
    "# --- Visualize COGS by Category as a Bar Chart ---\n",
    "plt.figure(figsize=(12, 6))\n",
    "sns.barplot(x='CategoryName', y='CostOfGoodsSold', data=cogs_by_category, palette='viridis')\n",
    "plt.title('Cost of Goods Sold (COGS) by Product Category (February 2024)')\n",
    "plt.xlabel('Category Name')\n",
    "plt.ylabel('Total COGS (₹)') # Updated label to reflect Rupees\n",
    "plt.xticks(rotation=45, ha='right') # Rotate labels for readability\n",
    "plt.tight_layout()\n",
    "plt.show()"
   ]
  },
  {
   "cell_type": "code",
   "execution_count": null,
   "id": "5f15ef76",
   "metadata": {},
   "outputs": [],
   "source": [
    "# --- Limitation: Average Inventory Calculation ---\n",
    "print(\"\\nLimitation: Accurate Average Inventory cannot be calculated without actual inventory data.\")\n",
    "print(\"This analysis is based on the sales data for February 2024. To calculate a true Inventory Turnover Ratio,\")\n",
    "print(\"you would need beginning and ending inventory levels (in units or value) for the month of February.\")\n",
    "print(\"If inventory data were available, the formula would be: \")\n",
    "print(\"Inventory Turnover = Total COGS / Average Inventory ( (Beginning Inventory + Ending Inventory) / 2 )\")\n",
    "print(\"\\nWithout inventory data, we can only analyze components like COGS, but not the full turnover rate itself.\")"
   ]
  },
  {
   "cell_type": "code",
   "execution_count": null,
   "id": "489bf939",
   "metadata": {},
   "outputs": [],
   "source": [
    "print(\"\\nInventory Turnover Ratio Analysis section complete.\")"
   ]
  }
 ],
 "metadata": {
  "jupytext": {
   "cell_metadata_filter": "-all",
   "main_language": "python",
   "notebook_metadata_filter": "-all"
  }
 },
 "nbformat": 4,
 "nbformat_minor": 5
}

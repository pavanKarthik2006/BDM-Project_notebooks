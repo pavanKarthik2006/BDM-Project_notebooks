{
 "cells": [
  {
   "cell_type": "code",
   "execution_count": null,
   "id": "d296dc09",
   "metadata": {},
   "outputs": [],
   "source": [
    "import pandas as pd\n",
    "from column_selection import final_preprocessed_df"
   ]
  },
  {
   "cell_type": "markdown",
   "id": "6a0b8e15",
   "metadata": {},
   "source": [
    "Assuming 'final_preprocessed_df' is already available from the data preprocessing steps,\n",
    "containing 'TotalPrice', 'Quantity', 'Price', and 'Discount' columns\n",
    "for the filtered data of February 2024."
   ]
  },
  {
   "cell_type": "code",
   "execution_count": null,
   "id": "5e3cca8c",
   "metadata": {},
   "outputs": [],
   "source": [
    "print(\"--- Financial Overview Calculations for February 2024 ---\")"
   ]
  },
  {
   "cell_type": "code",
   "execution_count": null,
   "id": "a762986c",
   "metadata": {},
   "outputs": [],
   "source": [
    "# 1. Calculate Total Revenue (Sales)\n",
    "total_revenue_feb2024 = final_preprocessed_df['TotalPrice'].sum()\n",
    "print(f\"\\nTotal Revenue (Sales) for February 2024: ₹{total_revenue_feb2024:,.2f}\")"
   ]
  },
  {
   "cell_type": "code",
   "execution_count": null,
   "id": "c7b502a8",
   "metadata": {},
   "outputs": [],
   "source": [
    "# 2. Calculate Total Cost of Goods Sold (COGS)\n",
    "# Recalculate 'CostOfGoodsSold' column if it's not already present or for accuracy,\n",
    "# using 'Price' as the cost per unit from the merged data.\n",
    "# This ensures consistency with the analysis methods described.\n",
    "final_preprocessed_df['CostOfGoodsSold'] = final_preprocessed_df['Quantity'] * final_preprocessed_df['Price'] * (1 - final_preprocessed_df['Discount'])\n",
    "total_cogs_feb2024 = final_preprocessed_df['CostOfGoodsSold'].sum()\n",
    "print(f\"Total Cost of Goods Sold (COGS) for February 2024: ₹{total_cogs_feb2024:,.2f}\")"
   ]
  },
  {
   "cell_type": "code",
   "execution_count": null,
   "id": "d263295a",
   "metadata": {},
   "outputs": [],
   "source": [
    "# 3. Calculate Total Profit\n",
    "total_profit_feb2024 = total_revenue_feb2024 - total_cogs_feb2024\n",
    "print(f\"Total Profit for February 2024: ₹{total_profit_feb2024:,.2f}\")"
   ]
  },
  {
   "cell_type": "code",
   "execution_count": null,
   "id": "b003edd3",
   "metadata": {},
   "outputs": [],
   "source": [
    "# 4. Calculate Profit Margin Percentage\n",
    "# Avoid division by zero if total_revenue_feb2024 is zero\n",
    "profit_margin_percentage_feb2024 = (total_profit_feb2024 / total_revenue_feb2024) * 100 if total_revenue_feb2024 != 0 else 0\n",
    "print(f\"Profit Margin Percentage for February 2024: {profit_margin_percentage_feb2024:.2f}%\")"
   ]
  },
  {
   "cell_type": "code",
   "execution_count": null,
   "id": "00f5a82a",
   "metadata": {},
   "outputs": [],
   "source": [
    "print(\"\\nFinancial calculations complete.\")"
   ]
  }
 ],
 "metadata": {
  "jupytext": {
   "cell_metadata_filter": "-all",
   "main_language": "python",
   "notebook_metadata_filter": "-all"
  }
 },
 "nbformat": 4,
 "nbformat_minor": 5
}

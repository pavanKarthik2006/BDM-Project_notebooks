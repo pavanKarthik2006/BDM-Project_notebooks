{
 "cells": [
  {
   "cell_type": "code",
   "execution_count": null,
   "id": "2004c245",
   "metadata": {},
   "outputs": [],
   "source": [
    "import pandas as pd\n",
    "from prophet import Prophet\n",
    "import matplotlib.pyplot as plt\n",
    "import seaborn as sns\n",
    "from column_selection import final_preprocessed_df  # Assuming this is the preprocessed DataFrame from the previous step"
   ]
  },
  {
   "cell_type": "code",
   "execution_count": null,
   "id": "656c3d21",
   "metadata": {},
   "outputs": [],
   "source": [
    "# Suppress warnings from Prophet\n",
    "import logging\n",
    "logging.getLogger('prophet').setLevel(logging.WARNING)"
   ]
  },
  {
   "cell_type": "markdown",
   "id": "eb2bd25d",
   "metadata": {},
   "source": [
    "Assuming 'final_preprocessed_df' is available and preprocessed\n",
    "from the 'Preprocess Trimmed Sales Data (February 2024) for Indian Grocery Store Specifics' immersive.\n",
    "This DataFrame should contain 'SalesDate' and 'TotalPrice'."
   ]
  },
  {
   "cell_type": "code",
   "execution_count": null,
   "id": "bb78844b",
   "metadata": {
    "lines_to_next_cell": 2
   },
   "outputs": [],
   "source": [
    "print(\"--- Time Series Forecasting for February 2024 Sales ---\")\n",
    "print(\"Using the 'final_preprocessed_df' which is already filtered for February 2024,\")\n",
    "print(\"Indian grocery store products, and selected categories.\")"
   ]
  },
  {
   "cell_type": "code",
   "execution_count": null,
   "id": "b3b8b607",
   "metadata": {},
   "outputs": [],
   "source": [
    "# Step 1: Prepare the data for Prophet\n",
    "# Aggregate TotalPrice by SalesDate to get daily sales\n",
    "daily_sales = final_preprocessed_df.groupby('SalesDate')['TotalPrice'].sum().reset_index()"
   ]
  },
  {
   "cell_type": "code",
   "execution_count": null,
   "id": "82199d0b",
   "metadata": {},
   "outputs": [],
   "source": [
    "# Rename columns to 'ds' and 'y' as required by Prophet\n",
    "daily_sales = daily_sales.rename(columns={'SalesDate': 'ds', 'TotalPrice': 'y'})"
   ]
  },
  {
   "cell_type": "code",
   "execution_count": null,
   "id": "82ae1005",
   "metadata": {
    "lines_to_next_cell": 2
   },
   "outputs": [],
   "source": [
    "print(\"\\nPrepared daily sales data for Prophet (first 5 rows):\")\n",
    "print(daily_sales.head())\n",
    "print(f\"Total days in dataset: {len(daily_sales)}\")"
   ]
  },
  {
   "cell_type": "code",
   "execution_count": null,
   "id": "b0697af2",
   "metadata": {},
   "outputs": [],
   "source": [
    "# Step 2: Initialize and Fit Prophet Model\n",
    "# Using daily_seasonality=True if there's enough data to detect daily patterns\n",
    "# (though with only one month, it might be weak)\n",
    "model = Prophet(seasonality_mode='additive', daily_seasonality=True)\n",
    "model.fit(daily_sales)"
   ]
  },
  {
   "cell_type": "code",
   "execution_count": null,
   "id": "93245f2a",
   "metadata": {},
   "outputs": [],
   "source": [
    "print(\"\\nProphet model fitted to the February 2024 daily sales data.\")"
   ]
  },
  {
   "cell_type": "code",
   "execution_count": null,
   "id": "9467d607",
   "metadata": {},
   "outputs": [],
   "source": [
    "# Step 3: Make Future DataFrame\n",
    "# Forecast for the next 7 days (into March)\n",
    "future = model.make_future_dataframe(periods=7, include_history=True) # include_history=True to plot actuals\n",
    "print(f\"\\nFuture DataFrame created for {len(future)} periods (including history and next 7 days).\")\n",
    "print(future.tail(10)) # Show some of the future dates"
   ]
  },
  {
   "cell_type": "code",
   "execution_count": null,
   "id": "d8c5e87c",
   "metadata": {},
   "outputs": [],
   "source": [
    "# Step 4: Generate Forecasts\n",
    "forecast = model.predict(future)"
   ]
  },
  {
   "cell_type": "code",
   "execution_count": null,
   "id": "bfdf26a8",
   "metadata": {},
   "outputs": [],
   "source": [
    "print(\"\\nForecast generated (first 5 rows of forecast):\")\n",
    "print(forecast[['ds', 'yhat', 'yhat_lower', 'yhat_upper']].head())\n",
    "print(\"Forecast generated (last 5 rows of forecast - predictions):\")\n",
    "print(forecast[['ds', 'yhat', 'yhat_lower', 'yhat_upper']].tail())"
   ]
  },
  {
   "cell_type": "code",
   "execution_count": null,
   "id": "1f952f7b",
   "metadata": {},
   "outputs": [],
   "source": [
    "# Step 5: Plot the Forecasts\n",
    "fig1 = model.plot(forecast)\n",
    "plt.title('Daily Sales Forecast for February 2024 and Next 7 Days')\n",
    "plt.xlabel('Date')\n",
    "plt.ylabel('Total Sales (₹)') # Updated label to reflect Rupees\n",
    "plt.grid(True, linestyle='--', alpha=0.6)\n",
    "plt.show()"
   ]
  },
  {
   "cell_type": "code",
   "execution_count": null,
   "id": "3838c570",
   "metadata": {
    "lines_to_next_cell": 2
   },
   "outputs": [],
   "source": [
    "# Plot the components of the forecast (trend, daily seasonality)\n",
    "fig2 = model.plot_components(forecast)\n",
    "plt.show()"
   ]
  },
  {
   "cell_type": "code",
   "execution_count": null,
   "id": "fe7e1789",
   "metadata": {},
   "outputs": [],
   "source": [
    "# Step 6: Acknowledge Limitations\n",
    "print(\"\\n--- Important Note on Forecast Limitations ---\")\n",
    "print(\"This forecast was generated using only one month (February 2024) of historical sales data.\")\n",
    "print(\"Due to this very limited dataset, the accuracy and reliability of these predictions are inherently low.\")\n",
    "print(\"Time series models perform best with more historical data to accurately identify long-term trends,\")\n",
    "print(\"yearly seasonality, and more robust weekly/daily patterns.\")\n",
    "print(\"These forecasts should be considered illustrative and not for critical business decision-making.\")"
   ]
  },
  {
   "cell_type": "code",
   "execution_count": null,
   "id": "f05af2d1",
   "metadata": {},
   "outputs": [],
   "source": [
    "print(\"\\nTime Series Forecasting section complete.\")"
   ]
  }
 ],
 "metadata": {
  "jupytext": {
   "cell_metadata_filter": "-all",
   "main_language": "python",
   "notebook_metadata_filter": "-all"
  }
 },
 "nbformat": 4,
 "nbformat_minor": 5
}

{
 "cells": [
  {
   "cell_type": "code",
   "execution_count": null,
   "id": "650bb74c",
   "metadata": {},
   "outputs": [],
   "source": [
    "import pandas as pd\n",
    "from datetime import timedelta\n",
    "import calendar"
   ]
  },
  {
   "cell_type": "code",
   "execution_count": null,
   "id": "c13d0094",
   "metadata": {},
   "outputs": [],
   "source": [
    "# --- Configuration ---\n",
    "# IMPORTANT: Use the correct path to your large sales dataset file\n",
    "SALES_FILE_PATH = r'C:\\Users\\Pavan\\Downloads\\archive (1)\\sales.csv' "
   ]
  },
  {
   "cell_type": "code",
   "execution_count": null,
   "id": "a6f74ed3",
   "metadata": {},
   "outputs": [],
   "source": [
    "# --- Target Month and Year ---\n",
    "TARGET_YEAR = 2024\n",
    "TARGET_MONTH = 2 # February"
   ]
  },
  {
   "cell_type": "code",
   "execution_count": null,
   "id": "69cc95f3",
   "metadata": {},
   "outputs": [],
   "source": [
    "# --- Data Loading ---\n",
    "try:\n",
    "    sales_df = pd.read_csv(SALES_FILE_PATH)\n",
    "    print(f\"Successfully loaded '{SALES_FILE_PATH}'. Initial dataset size: {len(sales_df)} rows.\")\n",
    "except FileNotFoundError:\n",
    "    print(f\"Error: The file '{SALES_FILE_PATH}' was not found. Please check the path and filename.\")\n",
    "    exit()"
   ]
  },
  {
   "cell_type": "code",
   "execution_count": null,
   "id": "75a87e54",
   "metadata": {},
   "outputs": [],
   "source": [
    "# --- Data Cleaning: Convert 'SalesDate' to datetime ---\n",
    "if 'SalesDate' in sales_df.columns:\n",
    "    initial_rows = len(sales_df)\n",
    "    sales_df.dropna(subset=['SalesDate'], inplace=True)\n",
    "    if len(sales_df) < initial_rows:\n",
    "        print(f\"Removed {initial_rows - len(sales_df)} rows with missing 'SalesDate'.\")\n",
    "\n",
    "    sales_df['SalesDate'] = pd.to_datetime(sales_df['SalesDate'])\n",
    "    print(\" 'SalesDate' column converted to datetime format.\")\n",
    "\n",
    "    # --- Shift SalesDate year from 2018 to 2024 ---\n",
    "    # This assumes the original data primarily contains years around 2018.\n",
    "    # It will add 6 years to all dates to effectively shift them from 2018 to 2024.\n",
    "    sales_df['SalesDate'] = sales_df['SalesDate'] + pd.DateOffset(years=TARGET_YEAR - 2018)\n",
    "    print(f\"Sales dates shifted from 2018 to {TARGET_YEAR} for analysis purposes.\")"
   ]
  },
  {
   "cell_type": "code",
   "execution_count": null,
   "id": "59c668bf",
   "metadata": {},
   "outputs": [],
   "source": [
    "else:\n",
    "    print(\"Error: 'SalesDate' column not found in the sales data. Please check your dataset.\")\n",
    "    exit()"
   ]
  },
  {
   "cell_type": "code",
   "execution_count": null,
   "id": "018a06b1",
   "metadata": {},
   "outputs": [],
   "source": [
    "# --- Define the 1-month period based on the TARGET_YEAR and TARGET_MONTH ---\n",
    "num_days_in_month = calendar.monthrange(TARGET_YEAR, TARGET_MONTH)[1]\n",
    "start_date_of_period = pd.Timestamp(TARGET_YEAR, TARGET_MONTH, 1)\n",
    "end_date_of_period = pd.Timestamp(TARGET_YEAR, TARGET_MONTH, num_days_in_month) + timedelta(days=1)"
   ]
  },
  {
   "cell_type": "code",
   "execution_count": null,
   "id": "a6d8ac4b",
   "metadata": {},
   "outputs": [],
   "source": [
    "print(f\"\\nTargeting data from: {start_date_of_period.strftime('%Y-%m-%d')}\")\n",
    "print(f\"To: {(end_date_of_period - timedelta(days=1)).strftime('%Y-%m-%d')} (a full month period).\")"
   ]
  },
  {
   "cell_type": "code",
   "execution_count": null,
   "id": "d180b146",
   "metadata": {},
   "outputs": [],
   "source": [
    "# --- Trim the DataFrame ---\n",
    "trimmed_sales_df = sales_df[\n",
    "    (sales_df['SalesDate'] >= start_date_of_period) &\n",
    "    (sales_df['SalesDate'] < end_date_of_period)\n",
    "].copy()"
   ]
  },
  {
   "cell_type": "code",
   "execution_count": null,
   "id": "eadd40b6",
   "metadata": {},
   "outputs": [],
   "source": [
    "print(f\"\\nData trimming complete. Trimmed dataset size: {len(trimmed_sales_df)} rows for the target month.\")\n",
    "if not trimmed_sales_df.empty:\n",
    "    print(f\"Date range of trimmed data: {trimmed_sales_df['SalesDate'].min()} to {trimmed_sales_df['SalesDate'].max()}\")\n",
    "else:\n",
    "    print(\"No data found within the specified month. Please verify your target month and year, and ensure data exists for that period.\")\n",
    "    exit()"
   ]
  },
  {
   "cell_type": "code",
   "execution_count": null,
   "id": "62878195",
   "metadata": {},
   "outputs": [],
   "source": [
    "# --- Save the trimmed data to a new CSV file ---\n",
    "output_filename = f\"trimmed_sales_feb_{TARGET_YEAR}.csv\"\n",
    "trimmed_sales_df.to_csv(output_filename, index=False)\n",
    "print(f\"\\nTrimmed sales data saved to '{output_filename}'.\")"
   ]
  },
  {
   "cell_type": "code",
   "execution_count": null,
   "id": "1e920844",
   "metadata": {},
   "outputs": [],
   "source": [
    "# Display head of the saved file for verification\n",
    "print(f\"\\nHead of the saved '{output_filename}':\")\n",
    "print(pd.read_csv(output_filename).head())"
   ]
  }
 ],
 "metadata": {
  "jupytext": {
   "cell_metadata_filter": "-all",
   "main_language": "python",
   "notebook_metadata_filter": "-all"
  }
 },
 "nbformat": 4,
 "nbformat_minor": 5
}
